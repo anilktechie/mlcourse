{
 "cells": [
  {
   "cell_type": "markdown",
   "metadata": {},
   "source": [
    "# Mean, Median, Mode, and introducing NumPy"
   ]
  },
  {
   "cell_type": "markdown",
   "metadata": {},
   "source": [
    "## Mean vs. Median"
   ]
  },
  {
   "cell_type": "markdown",
   "metadata": {},
   "source": [
    "Let's create some fake income data, centered around 27,000 with a normal distribution and standard deviation of 15,000, with 10,000 data points. (We'll discuss those terms more later, if you're not familiar with them.)\n",
    "\n",
    "Then, compute the mean (average) - it should be close to 27,000:"
   ]
  },
  {
   "cell_type": "code",
   "execution_count": 1,
   "metadata": {},
   "outputs": [
    {
     "data": {
      "text/plain": [
       "26950.262210672958"
      ]
     },
     "execution_count": 1,
     "metadata": {},
     "output_type": "execute_result"
    }
   ],
   "source": [
    "import numpy as np\n",
    "\n",
    "incomes = np.random.normal(27000, 15000, 10000)\n",
    "np.mean(incomes)"
   ]
  },
  {
   "cell_type": "markdown",
   "metadata": {},
   "source": [
    "We can segment the income data into 50 buckets, and plot it as a histogram:"
   ]
  },
  {
   "cell_type": "code",
   "execution_count": 5,
   "metadata": {},
   "outputs": [
    {
     "data": {
      "image/png": "[encoded data removed]",
      "text/plain": [
       "<Figure size 432x288 with 1 Axes>"
      ]
     },
     "metadata": {
      "needs_background": "light"
     },
     "output_type": "display_data"
    },
    {
     "data": {
      "image/png": "[encoded data removed]",
      "text/plain": [
       "<Figure size 432x288 with 1 Axes>"
      ]
     },
     "metadata": {
      "needs_background": "light"
     },
     "output_type": "display_data"
    },
    {
     "data": {
      "image/png": "[encoded data removed]",
      "text/plain": [
       "<Figure size 432x288 with 1 Axes>"
      ]
     },
     "metadata": {
      "needs_background": "light"
     },
     "output_type": "display_data"
    }
   ],
   "source": [
    "%matplotlib inline\n",
    "import matplotlib.pyplot as plt\n",
    "plt.hist(incomes, 5)\n",
    "plt.show()\n",
    "plt.hist(incomes, 500)\n",
    "plt.show()\n",
    "plt.hist(incomes, 500)\n",
    "plt.show()"
   ]
  },
  {
   "cell_type": "markdown",
   "metadata": {},
   "source": [
    "Now compute the median - since we have a nice, even distribution it too should be close to 27,000:"
   ]
  },
  {
   "cell_type": "code",
   "execution_count": 12,
   "metadata": {},
   "outputs": [
    {
     "data": {
      "text/plain": [
       "27149.265729794515"
      ]
     },
     "execution_count": 12,
     "metadata": {},
     "output_type": "execute_result"
    }
   ],
   "source": [
    "np.median(incomes)"
   ]
  },
  {
   "cell_type": "markdown",
   "metadata": {},
   "source": [
    "Now we'll add Jeff Bezos into the mix. Darn income inequality!"
   ]
  },
  {
   "cell_type": "code",
   "execution_count": 13,
   "metadata": {},
   "outputs": [],
   "source": [
    "incomes = np.append(incomes, [1000000000])"
   ]
  },
  {
   "cell_type": "markdown",
   "metadata": {},
   "source": [
    "The median won't change much, but the mean does:"
   ]
  },
  {
   "cell_type": "code",
   "execution_count": 14,
   "metadata": {},
   "outputs": [
    {
     "data": {
      "text/plain": [
       "27150.403712504758"
      ]
     },
     "execution_count": 14,
     "metadata": {},
     "output_type": "execute_result"
    }
   ],
   "source": [
    "np.median(incomes)"
   ]
  },
  {
   "cell_type": "code",
   "execution_count": 15,
   "metadata": {},
   "outputs": [
    {
     "data": {
      "text/plain": [
       "127058.42262904435"
      ]
     },
     "execution_count": 15,
     "metadata": {},
     "output_type": "execute_result"
    }
   ],
   "source": [
    "np.mean(incomes)"
   ]
  },
  {
   "cell_type": "code",
   "execution_count": 16,
   "metadata": {},
   "outputs": [
    {
     "data": {
      "image/png": "[encoded data removed]",
      "text/plain": [
       "<Figure size 432x288 with 1 Axes>"
      ]
     },
     "metadata": {
      "needs_background": "light"
     },
     "output_type": "display_data"
    }
   ],
   "source": [
    "plt.hist(incomes, 50)\n",
    "plt.show()"
   ]
  },
  {
   "cell_type": "markdown",
   "metadata": {},
   "source": [
    "## Mode"
   ]
  },
  {
   "cell_type": "markdown",
   "metadata": {},
   "source": [
    "Next, let's generate some fake age data for 500 people:"
   ]
  },
  {
   "cell_type": "code",
   "execution_count": 6,
   "metadata": {
    "scrolled": true
   },
   "outputs": [
    {
     "data": {
      "text/plain": [
       "array([44, 76, 63, 41, 49, 85, 41, 87, 47, 49, 69, 21, 62, 70, 80, 45, 30,\n",
       "       53, 27, 80, 59, 48, 26, 82, 39, 76, 73, 89, 80, 71, 41, 26, 35, 76,\n",
       "       21, 56, 35, 18, 66, 50, 48, 40, 33, 74, 25, 87, 89, 76, 76, 73, 44,\n",
       "       25, 32, 44, 28, 84, 56, 32, 73, 46, 68, 57, 29, 18, 51, 50, 41, 20,\n",
       "       48, 85, 73, 59, 83, 69, 39, 40, 81, 37, 66, 63, 21, 33, 76, 66, 80,\n",
       "       78, 20, 33, 64, 75, 61, 79, 88, 56, 45, 37, 47, 44, 54, 20, 45, 88,\n",
       "       83, 34, 73, 89, 51, 75, 86, 18, 45, 83, 24, 79, 57, 86, 62, 20, 81,\n",
       "       18, 31, 74, 56, 46, 59, 76, 84, 34, 23, 78, 36, 70, 64, 68, 49, 38,\n",
       "       40, 53, 66, 84, 87, 41, 80, 85, 70, 87, 45, 20, 22, 50, 64, 22, 32,\n",
       "       21, 66, 39, 40, 37, 33, 45, 50, 30, 32, 35, 69, 64, 74, 58, 69, 28,\n",
       "       57, 62, 68, 40, 36, 69, 77, 28, 78, 78, 44, 29, 65, 32, 51, 82, 37,\n",
       "       48, 59, 45, 49, 82, 84, 88, 58, 66, 59, 71, 64, 27, 46, 38, 71, 64,\n",
       "       71, 24, 48, 88, 58, 21, 44, 20, 45, 71, 19, 52, 71, 23, 55, 81, 67,\n",
       "       36, 25, 62, 37, 59, 60, 63, 43, 52, 48, 20, 33, 72, 31, 38, 35, 55,\n",
       "       65, 73, 20, 64, 40, 40, 78, 67, 78, 71, 22, 26, 22, 69, 40, 70, 76,\n",
       "       82, 58, 47, 41, 81, 49, 50, 35, 78, 19, 18, 88, 31, 85, 63, 51, 52,\n",
       "       24, 47, 80, 43, 21, 79, 61, 38, 44, 55, 83, 76, 56, 55, 34, 18, 28,\n",
       "       60, 47, 35, 72, 59, 31, 33, 24, 41, 70, 52, 56, 35, 69, 64, 55, 34,\n",
       "       87, 46, 42, 48, 44, 87, 27, 39, 52, 38, 31, 73, 38, 47, 48, 76, 26,\n",
       "       80, 40, 66, 64, 80, 77, 23, 81, 78, 48, 51, 33, 72, 56, 42, 57, 32,\n",
       "       80, 87, 20, 24, 24, 80, 20, 41, 77, 40, 41, 49, 69, 55, 67, 55, 45,\n",
       "       63, 36, 38, 84, 77, 41, 21, 71, 36, 68, 43, 55, 88, 25, 79, 58, 44,\n",
       "       35, 60, 34, 33, 31, 79, 29, 27, 55, 29, 58, 63, 18, 71, 49, 19, 25,\n",
       "       30, 35, 79, 72, 79, 69, 20, 80, 34, 67, 75, 52, 77, 85, 19, 34, 65,\n",
       "       58, 75, 81, 49, 42, 53, 62, 52, 74, 40, 40, 31, 26, 56, 89, 24, 50,\n",
       "       26, 83, 38, 44, 87, 52, 79, 63, 30, 62, 47, 45, 45, 35, 66, 30, 65,\n",
       "       60, 85, 25, 75, 72, 60, 20, 80, 55, 63, 18, 22, 61, 31, 32, 37, 84,\n",
       "       45, 54, 31, 74, 38, 46, 62, 89, 39, 57, 57, 61, 18, 53, 56, 79, 70,\n",
       "       65, 74, 76, 87, 50, 67, 49, 24, 43, 63, 38, 52, 24, 29, 82, 64, 89,\n",
       "       87, 43, 19, 71, 86, 19, 48])"
      ]
     },
     "execution_count": 6,
     "metadata": {},
     "output_type": "execute_result"
    }
   ],
   "source": [
    "ages = np.random.randint(18, high=90, size=500)\n",
    "ages"
   ]
  },
  {
   "cell_type": "code",
   "execution_count": 7,
   "metadata": {},
   "outputs": [
    {
     "data": {
      "image/png": "[encoded data removed]",
      "text/plain": [
       "<Figure size 432x288 with 1 Axes>"
      ]
     },
     "metadata": {
      "needs_background": "light"
     },
     "output_type": "display_data"
    }
   ],
   "source": [
    "unique, counts = np.unique(ages, return_counts=True)\n",
    "#print (np.asarray((unique, counts)).T)\n",
    "plt.bar(unique,counts)\n",
    "plt.show()"
   ]
  },
  {
   "cell_type": "code",
   "execution_count": 8,
   "metadata": {},
   "outputs": [
    {
     "data": {
      "text/plain": [
       "ModeResult(mode=array([20]), count=array([12]))"
      ]
     },
     "execution_count": 8,
     "metadata": {},
     "output_type": "execute_result"
    }
   ],
   "source": [
    "from scipy import stats\n",
    "stats.mode(ages)"
   ]
  },
  {
   "cell_type": "code",
   "execution_count": 11,
   "metadata": {},
   "outputs": [
    {
     "data": {
      "image/png": "[encoded data removed]",
      "text/plain": [
       "<Figure size 432x288 with 1 Axes>"
      ]
     },
     "metadata": {
      "needs_background": "light"
     },
     "output_type": "display_data"
    }
   ],
   "source": [
    "plt.hist(ages, 50)#72)\n",
    "plt.show()"
   ]
  },
  {
   "cell_type": "markdown",
   "metadata": {},
   "source": [
    "# Exercise: Mean & Median Customer Spend"
   ]
  },
  {
   "cell_type": "markdown",
   "metadata": {},
   "source": [
    "Here's some code that will generate some random e-commerce data; just an array of total amount spent per transaction. Select the code block, and hit \"play\" to execute it:"
   ]
  },
  {
   "cell_type": "code",
   "execution_count": 117,
   "metadata": {},
   "outputs": [
    {
     "data": {
      "image/png": "[encoded data removed]",
      "text/plain": [
       "<Figure size 432x288 with 1 Axes>"
      ]
     },
     "metadata": {
      "needs_background": "light"
     },
     "output_type": "display_data"
    }
   ],
   "source": [
    "%matplotlib inline\n",
    "import numpy as np\n",
    "import matplotlib.pyplot as plt\n",
    "\n",
    "incomes = np.random.normal(100.0, 20.0, 10000)\n",
    "\n",
    "plt.hist(incomes, 50)\n",
    "plt.show()"
   ]
  },
  {
   "cell_type": "markdown",
   "metadata": {},
   "source": [
    "Now, find the mean and median of this data. In the code block below, write your code, and see if your result makes sense:"
   ]
  },
  {
   "cell_type": "code",
   "execution_count": 130,
   "metadata": {},
   "outputs": [
    {
     "name": "stdout",
     "output_type": "stream",
     "text": [
      "[100.25434599 100.05680863]\n",
      "100.2543459900521 100.05680863217586\n"
     ]
    }
   ],
   "source": [
    "print (np.asarray((np.median(incomes), np.mean(incomes))))\n",
    "print (np.median(incomes), np.mean(incomes))"
   ]
  },
  {
   "cell_type": "markdown",
   "metadata": {},
   "source": [
    "This is pretty much the world's easiest assignment, but we're just trying to get your hands on iPython and writing code with numpy to get you comfortable with it.\n",
    "\n",
    "Try playing with the code above to generate different distributions of data, or add outliers to it to see their effect."
   ]
  },
  {
   "cell_type": "code",
   "execution_count": null,
   "metadata": {},
   "outputs": [],
   "source": []
  }
 ],
 "metadata": {
  "kernelspec": {
   "display_name": "Python 3",
   "language": "python",
   "name": "python3"
  },
  "language_info": {
   "codemirror_mode": {
    "name": "ipython",
    "version": 3
   },
   "file_extension": ".py",
   "mimetype": "text/x-python",
   "name": "python",
   "nbconvert_exporter": "python",
   "pygments_lexer": "ipython3",
   "version": "3.7.6"
  }
 },
 "nbformat": 4,
 "nbformat_minor": 1
}
