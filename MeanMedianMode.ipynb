{
 "cells": [
  {
   "cell_type": "markdown",
   "metadata": {},
   "source": [
    "# Mean, Median, Mode, and introducing NumPy"
   ]
  },
  {
   "cell_type": "markdown",
   "metadata": {},
   "source": [
    "## Mean vs. Median"
   ]
  },
  {
   "cell_type": "markdown",
   "metadata": {},
   "source": [
    "Let's create some fake income data, centered around 27,000 with a normal distribution and standard deviation of 15,000, with 10,000 data points. (We'll discuss those terms more later, if you're not familiar with them.)\n",
    "\n",
    "Then, compute the mean (average) - it should be close to 27,000:"
   ]
  },
  {
   "cell_type": "code",
   "execution_count": 10,
   "metadata": {},
   "outputs": [
    {
     "data": {
      "text/plain": [
       "27071.128471307253"
      ]
     },
     "execution_count": 10,
     "metadata": {},
     "output_type": "execute_result"
    }
   ],
   "source": [
    "import numpy as np\n",
    "\n",
    "incomes = np.random.normal(27000, 15000, 10000)\n",
    "np.mean(incomes)"
   ]
  },
  {
   "cell_type": "markdown",
   "metadata": {},
   "source": [
    "We can segment the income data into 50 buckets, and plot it as a histogram:"
   ]
  },
  {
   "cell_type": "code",
   "execution_count": 11,
   "metadata": {},
   "outputs": [
    {
     "data": {
      "image/png": "[encoded data removed]",
      "text/plain": [
       "<Figure size 432x288 with 1 Axes>"
      ]
     },
     "metadata": {
      "needs_background": "light"
     },
     "output_type": "display_data"
    },
    {
     "data": {
      "image/png": "[encoded data removed]",
      "text/plain": [
       "<Figure size 432x288 with 1 Axes>"
      ]
     },
     "metadata": {
      "needs_background": "light"
     },
     "output_type": "display_data"
    },
    {
     "data": {
      "image/png": "[encoded data removed]",
      "text/plain": [
       "<Figure size 432x288 with 1 Axes>"
      ]
     },
     "metadata": {
      "needs_background": "light"
     },
     "output_type": "display_data"
    }
   ],
   "source": [
    "%matplotlib inline\n",
    "import matplotlib.pyplot as plt\n",
    "plt.hist(incomes, 50)\n",
    "plt.show()\n",
    "plt.hist(incomes, 500)\n",
    "plt.show()\n",
    "plt.hist(incomes, 5000)\n",
    "plt.show()"
   ]
  },
  {
   "cell_type": "markdown",
   "metadata": {},
   "source": [
    "Now compute the median - since we have a nice, even distribution it too should be close to 27,000:"
   ]
  },
  {
   "cell_type": "code",
   "execution_count": 12,
   "metadata": {},
   "outputs": [
    {
     "data": {
      "text/plain": [
       "27149.265729794515"
      ]
     },
     "execution_count": 12,
     "metadata": {},
     "output_type": "execute_result"
    }
   ],
   "source": [
    "np.median(incomes)"
   ]
  },
  {
   "cell_type": "markdown",
   "metadata": {},
   "source": [
    "Now we'll add Jeff Bezos into the mix. Darn income inequality!"
   ]
  },
  {
   "cell_type": "code",
   "execution_count": 13,
   "metadata": {},
   "outputs": [],
   "source": [
    "incomes = np.append(incomes, [1000000000])"
   ]
  },
  {
   "cell_type": "markdown",
   "metadata": {},
   "source": [
    "The median won't change much, but the mean does:"
   ]
  },
  {
   "cell_type": "code",
   "execution_count": 14,
   "metadata": {},
   "outputs": [
    {
     "data": {
      "text/plain": [
       "27150.403712504758"
      ]
     },
     "execution_count": 14,
     "metadata": {},
     "output_type": "execute_result"
    }
   ],
   "source": [
    "np.median(incomes)"
   ]
  },
  {
   "cell_type": "code",
   "execution_count": 15,
   "metadata": {},
   "outputs": [
    {
     "data": {
      "text/plain": [
       "127058.42262904435"
      ]
     },
     "execution_count": 15,
     "metadata": {},
     "output_type": "execute_result"
    }
   ],
   "source": [
    "np.mean(incomes)"
   ]
  },
  {
   "cell_type": "code",
   "execution_count": 16,
   "metadata": {},
   "outputs": [
    {
     "data": {
      "image/png": "[encoded data removed]",
      "text/plain": [
       "<Figure size 432x288 with 1 Axes>"
      ]
     },
     "metadata": {
      "needs_background": "light"
     },
     "output_type": "display_data"
    }
   ],
   "source": [
    "plt.hist(incomes, 50)\n",
    "plt.show()"
   ]
  },
  {
   "cell_type": "markdown",
   "metadata": {},
   "source": [
    "## Mode"
   ]
  },
  {
   "cell_type": "markdown",
   "metadata": {},
   "source": [
    "Next, let's generate some fake age data for 500 people:"
   ]
  },
  {
   "cell_type": "code",
   "execution_count": 104,
   "metadata": {
    "scrolled": true
   },
   "outputs": [
    {
     "data": {
      "text/plain": [
       "array([61, 44, 42, 32, 48, 60, 26, 39, 53, 33, 78, 20, 55, 32, 52, 35, 48,\n",
       "       65, 36, 78, 76, 50, 25, 76, 83, 78, 62, 78, 55, 48, 77, 51, 81, 56,\n",
       "       47, 76, 20, 50, 19, 64, 45, 57, 40, 79, 58, 87, 58, 58, 21, 24, 22,\n",
       "       46, 59, 20, 21, 75, 78, 35, 58, 44, 81, 76, 58, 28, 25, 27, 53, 28,\n",
       "       89, 43, 27, 44, 86, 63, 39, 83, 84, 63, 85, 44, 54, 66, 35, 78, 26,\n",
       "       65, 89, 29, 28, 73, 67, 19, 75, 25, 86, 39, 25, 45, 72, 66, 31, 53,\n",
       "       46, 52, 61, 50, 32, 41, 60, 27, 63, 35, 59, 89, 69, 25, 79, 70, 66,\n",
       "       19, 84, 56, 68, 87, 76, 88, 24, 68, 38, 21, 86, 25, 31, 88, 32, 75,\n",
       "       61, 42, 26, 73, 22, 23, 39, 41, 86, 85, 36, 48, 40, 54, 65, 30, 50,\n",
       "       22, 88, 50, 71, 21, 50, 52, 50, 38, 33, 42, 81, 54, 53, 31, 86, 80,\n",
       "       47, 18, 78, 50, 59, 64, 56, 83, 41, 25, 72, 80, 81, 37, 82, 27, 18,\n",
       "       70, 48, 72, 87, 42, 75, 45, 28, 27, 21, 32, 72, 47, 66, 19, 66, 80,\n",
       "       40, 39, 25, 43, 44, 32, 20, 78, 30, 63, 27, 31, 39, 42, 23, 62, 53,\n",
       "       82, 87, 86, 89, 37, 69, 84, 57, 60, 63, 46, 89, 45, 68, 45, 21, 46,\n",
       "       33, 61, 78, 79, 87, 41, 68, 89, 35, 65, 84, 36, 34, 88, 23, 87, 65,\n",
       "       67, 62, 72, 18, 30, 60, 87, 44, 20, 58, 86, 51, 25, 80, 29, 33, 44,\n",
       "       65, 49, 88, 79, 80, 32, 82, 87, 28, 34, 30, 37, 88, 34, 83, 74, 39,\n",
       "       30, 36, 86, 22, 64, 55, 19, 55, 22, 22, 89, 71, 87, 68, 56, 63, 52,\n",
       "       34, 72, 79, 82, 71, 32, 18, 25, 88, 26, 82, 63, 65, 20, 46, 79, 20,\n",
       "       40, 35, 71, 58, 28, 62, 40, 46, 77, 32, 72, 29, 50, 70, 80, 57, 33,\n",
       "       33, 40, 41, 70, 85, 18, 36, 39, 18, 47, 31, 83, 69, 34, 35, 46, 25,\n",
       "       76, 58, 58, 46, 74, 58, 67, 72, 40, 65, 70, 31, 41, 53, 53, 81, 26,\n",
       "       29, 49, 25, 65, 60, 36, 76, 19, 81, 64, 89, 79, 77, 79, 43, 25, 41,\n",
       "       65, 85, 44, 35, 21, 35, 18, 81, 36, 38, 31, 89, 29, 74, 45, 75, 76,\n",
       "       29, 25, 72, 42, 84, 28, 87, 65, 57, 27, 68, 83, 84, 41, 27, 87, 38,\n",
       "       21, 83, 88, 87, 38, 24, 25, 51, 77, 79, 69, 81, 41, 66, 28, 26, 49,\n",
       "       30, 41, 25, 71, 66, 89, 76, 27, 89, 60, 74, 18, 84, 54, 89, 45, 76,\n",
       "       21, 42, 47, 81, 55, 79, 80, 60, 31, 63, 38, 88, 48, 61, 29, 41, 22,\n",
       "       68, 41, 25, 66, 82, 74, 19, 38, 78, 46, 78, 85, 84, 21, 52, 66, 80,\n",
       "       48, 81, 80, 88, 88, 49, 28])"
      ]
     },
     "execution_count": 104,
     "metadata": {},
     "output_type": "execute_result"
    }
   ],
   "source": [
    "ages = np.random.randint(18, high=90, size=500)\n",
    "ages"
   ]
  },
  {
   "cell_type": "code",
   "execution_count": 105,
   "metadata": {},
   "outputs": [
    {
     "data": {
      "image/png": "[encoded data removed]",
      "text/plain": [
       "<Figure size 432x288 with 1 Axes>"
      ]
     },
     "metadata": {
      "needs_background": "light"
     },
     "output_type": "display_data"
    }
   ],
   "source": [
    "unique, counts = np.unique(ages, return_counts=True)\n",
    "#print (np.asarray((unique, counts)).T)\n",
    "plt.bar(unique,counts)\n",
    "plt.show()"
   ]
  },
  {
   "cell_type": "code",
   "execution_count": 106,
   "metadata": {},
   "outputs": [
    {
     "data": {
      "text/plain": [
       "ModeResult(mode=array([25]), count=array([17]))"
      ]
     },
     "execution_count": 106,
     "metadata": {},
     "output_type": "execute_result"
    }
   ],
   "source": [
    "from scipy import stats\n",
    "stats.mode(ages)"
   ]
  },
  {
   "cell_type": "code",
   "execution_count": 107,
   "metadata": {},
   "outputs": [
    {
     "data": {
      "image/png": "[encoded data removed]",
      "text/plain": [
       "<Figure size 432x288 with 1 Axes>"
      ]
     },
     "metadata": {
      "needs_background": "light"
     },
     "output_type": "display_data"
    }
   ],
   "source": [
    "plt.hist(ages, 50)#72)\n",
    "plt.show()"
   ]
  },
  {
   "cell_type": "markdown",
   "metadata": {},
   "source": [
    "# Exercise: Mean & Median Customer Spend"
   ]
  },
  {
   "cell_type": "markdown",
   "metadata": {},
   "source": [
    "Here's some code that will generate some random e-commerce data; just an array of total amount spent per transaction. Select the code block, and hit \"play\" to execute it:"
   ]
  },
  {
   "cell_type": "code",
   "execution_count": 117,
   "metadata": {},
   "outputs": [
    {
     "data": {
      "image/png": "[encoded data removed]",
      "text/plain": [
       "<Figure size 432x288 with 1 Axes>"
      ]
     },
     "metadata": {
      "needs_background": "light"
     },
     "output_type": "display_data"
    }
   ],
   "source": [
    "%matplotlib inline\n",
    "import numpy as np\n",
    "import matplotlib.pyplot as plt\n",
    "\n",
    "incomes = np.random.normal(100.0, 20.0, 10000)\n",
    "\n",
    "plt.hist(incomes, 50)\n",
    "plt.show()"
   ]
  },
  {
   "cell_type": "markdown",
   "metadata": {},
   "source": [
    "Now, find the mean and median of this data. In the code block below, write your code, and see if your result makes sense:"
   ]
  },
  {
   "cell_type": "code",
   "execution_count": 130,
   "metadata": {},
   "outputs": [
    {
     "name": "stdout",
     "output_type": "stream",
     "text": [
      "[100.25434599 100.05680863]\n",
      "100.2543459900521 100.05680863217586\n"
     ]
    }
   ],
   "source": [
    "print (np.asarray((np.median(incomes), np.mean(incomes))))\n",
    "print (np.median(incomes), np.mean(incomes))"
   ]
  },
  {
   "cell_type": "markdown",
   "metadata": {},
   "source": [
    "This is pretty much the world's easiest assignment, but we're just trying to get your hands on iPython and writing code with numpy to get you comfortable with it.\n",
    "\n",
    "Try playing with the code above to generate different distributions of data, or add outliers to it to see their effect."
   ]
  },
  {
   "cell_type": "code",
   "execution_count": null,
   "metadata": {},
   "outputs": [],
   "source": []
  }
 ],
 "metadata": {
  "kernelspec": {
   "display_name": "Python 3",
   "language": "python",
   "name": "python3"
  },
  "language_info": {
   "codemirror_mode": {
    "name": "ipython",
    "version": 3
   },
   "file_extension": ".py",
   "mimetype": "text/x-python",
   "name": "python",
   "nbconvert_exporter": "python",
   "pygments_lexer": "ipython3",
   "version": "3.7.6"
  }
 },
 "nbformat": 4,
 "nbformat_minor": 1
}
